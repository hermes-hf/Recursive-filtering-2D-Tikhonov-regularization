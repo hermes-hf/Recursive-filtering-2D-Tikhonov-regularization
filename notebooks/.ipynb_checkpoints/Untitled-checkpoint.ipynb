{
 "cells": [
  {
   "cell_type": "code",
   "execution_count": 16,
   "id": "a4917496-afbc-4967-81d6-082fb7b56c06",
   "metadata": {},
   "outputs": [],
   "source": [
    "\n",
    "import numpy as np\n",
    "from scipy.optimize import least_squares\n",
    "from scipy.optimize import dual_annealing\n",
    "\n",
    "def Fv(p, N, c0 =0):\n",
    "    P = np.array(p)\n",
    "    n = len(P)//3\n",
    "    α = P[0::3]\n",
    "    β = P[1::3]\n",
    "    γ = P[2::3]\n",
    "    x = np.arange(N)\n",
    "    X =  np.repeat(x[None,:], repeats=[n], axis=0)\n",
    "    xres = np.sum(α[:,None]**2 * np.exp(-(X*β[:,None])**2/2),0)\n",
    "    yres = np.sum(α[:,None]**2 * np.exp(-(X*γ[:,None])**2/2),0)\n",
    "   \n",
    "    xres[0] += c0\n",
    "    yres[0] += c0\n",
    "    \n",
    "    return np.concatenate([xres,yres])\n",
    "\n",
    "def loss(p, K, c0 = 0):\n",
    "    res = Fv(p, K.shape[0]/2, c0)\n",
    "    return res - K\n",
    "\n",
    "def optimize(K, Nparam, c0 = 0, p = None):\n",
    "\n",
    "    if p is None:\n",
    "        P  = np.zeros(Nparam*3)\n",
    "        P[0::3] = np.linspace(0.1,1.,Nparam)\n",
    "        P[1::3] = np.linspace(0.1,1.,Nparam)**2\n",
    "        P[2::3] = np.linspace(0.1,1.,Nparam)**2\n",
    "    else:\n",
    "        P = np.array(p)\n",
    "    \n",
    "    def func(*p):\n",
    "        return loss(p[0],K, c0)\n",
    "    \n",
    "    upperSigma = 1.5*max(max(P[1::3]),max(P[2::3]))\n",
    "    bounds = [(0,0) for i in range(Nparam*3)]\n",
    "    bounds[0::3] = [(0,1) for i in range(Nparam)]\n",
    "    bounds[1::3] = [(0,upperSigma) for i in range(Nparam)]\n",
    "    bounds[2::3] = [(0,upperSigma) for i in range(Nparam)]\n",
    "    #first solve a few exact problems\n",
    "    #P = least_squares(func, x0 =P, max_nfev = 10, tr_solver = 'exact', method='trf', x_scale='jac')[\"x\"]\n",
    "    #complete with more robust lsmr method\n",
    "    #return least_squares(func, x0 =P, max_nfev = 10, tr_solver = 'lsmr', method='trf', x_scale='jac')[\"x\"]\n",
    "\n",
    "    return dual_annealing(func,bounds, x0=P)\n",
    "    "
   ]
  },
  {
   "cell_type": "code",
   "execution_count": 15,
   "id": "84cf61d3-bde2-491c-b20e-a2270be7aefd",
   "metadata": {},
   "outputs": [
    {
     "data": {
      "text/plain": [
       "array([0.01     , 0.0099995, 0.009998 , 0.01     , 0.0099995, 0.009998 ])"
      ]
     },
     "execution_count": 15,
     "metadata": {},
     "output_type": "execute_result"
    }
   ],
   "source": [
    "optimize(np.array([0,0,0,0,0,0]), 1, 0)"
   ]
  }
 ],
 "metadata": {
  "kernelspec": {
   "display_name": "Python 3 (ipykernel)",
   "language": "python",
   "name": "python3"
  },
  "language_info": {
   "codemirror_mode": {
    "name": "ipython",
    "version": 3
   },
   "file_extension": ".py",
   "mimetype": "text/x-python",
   "name": "python",
   "nbconvert_exporter": "python",
   "pygments_lexer": "ipython3",
   "version": "3.9.7"
  }
 },
 "nbformat": 4,
 "nbformat_minor": 5
}
